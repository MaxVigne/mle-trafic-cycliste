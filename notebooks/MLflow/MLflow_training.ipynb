{
 "cells": [
  {
   "cell_type": "code",
   "execution_count": 4,
   "id": "ce507387",
   "metadata": {},
   "outputs": [],
   "source": [
    "import mlflow\n",
    "\n"
   ]
  },
  {
   "cell_type": "code",
   "execution_count": 9,
   "id": "f4be5071",
   "metadata": {},
   "outputs": [
    {
     "name": "stderr",
     "output_type": "stream",
     "text": [
      "2025/05/19 16:56:08 INFO mlflow.tracking.fluent: Experiment with name 'exp_local_debug' does not exist. Creating a new experiment.\n"
     ]
    },
    {
     "name": "stdout",
     "output_type": "stream",
     "text": [
      "Run local MLflow enregistré\n"
     ]
    }
   ],
   "source": [
    "\n",
    "import mlflow.sklearn\n",
    "\n",
    "# Local fallback (aucune dépendance à DagsHub)\n",
    "mlflow.set_tracking_uri(\"file:///mnt/data/mlruns\")\n",
    "mlflow.set_experiment(\"exp_local_debug\")\n",
    "\n",
    "with mlflow.start_run():\n",
    "    mlflow.log_param(\"param_test\", 123)\n",
    "    mlflow.log_metric(\"metric_test\", 0.42)\n",
    "    print(\"Run local MLflow enregistré\")"
   ]
  },
  {
   "cell_type": "code",
   "execution_count": null,
   "id": "2af15a87",
   "metadata": {},
   "outputs": [],
   "source": []
  }
 ],
 "metadata": {
  "kernelspec": {
   "display_name": "base",
   "language": "python",
   "name": "python3"
  },
  "language_info": {
   "codemirror_mode": {
    "name": "ipython",
    "version": 3
   },
   "file_extension": ".py",
   "mimetype": "text/x-python",
   "name": "python",
   "nbconvert_exporter": "python",
   "pygments_lexer": "ipython3",
   "version": "3.12.7"
  }
 },
 "nbformat": 4,
 "nbformat_minor": 5
}
